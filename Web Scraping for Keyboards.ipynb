{
 "cells": [
  {
   "cell_type": "markdown",
   "metadata": {},
   "source": [
    "# Web Scrapping for Keyboards"
   ]
  },
  {
   "cell_type": "markdown",
   "metadata": {},
   "source": [
    "## I will web scrape from Skroutz.gr website. It is a greek online shop website, similar to amazon. I have chosen this website because it's pretty."
   ]
  },
  {
   "cell_type": "markdown",
   "metadata": {},
   "source": [
    "### Import libraries for http request and BeautifulSoup"
   ]
  },
  {
   "cell_type": "code",
   "execution_count": 1,
   "metadata": {},
   "outputs": [],
   "source": [
    "from urllib.request import urlopen\n",
    "from bs4 import BeautifulSoup as soup\n",
    "import io"
   ]
  },
  {
   "cell_type": "markdown",
   "metadata": {},
   "source": [
    "### To scrape a page we need the url of the page. In order to automate the craping script i created a function takes as arguments the website url, the starting url within the site and a file to write the results into."
   ]
  },
  {
   "cell_type": "code",
   "execution_count": 2,
   "metadata": {},
   "outputs": [],
   "source": [
    "def scrape_page(website_url, starting_url, file):\n",
    "    # Create a request to the starting url page. Save the response.\n",
    "    client = urlopen(website_url + starting_url)\n",
    "    page_html = client.read()\n",
    "    client.close()\n",
    "    \n",
    "    # Use BeautifulSoup to parse the html of the response.\n",
    "    page_soup = soup(page_html, 'html.parser')\n",
    "    \n",
    "    # Get all the containers. Some have class='cf card' and some have class='cf card with-skus-slider'\n",
    "    cf_cards = page_soup.findAll('li', {'class': 'cf card'})\n",
    "    cf_cards_slider = page_soup.findAll('li', {'class': 'cf card with-skus-slider'})\n",
    "    containers = cf_cards + cf_cards_slider\n",
    "\n",
    "    # For all containers get the text from the appropriate html components.\n",
    "    for container in containers:\n",
    "        name = container.div.h2.a.text\n",
    "        price = container.findAll('div', {'class': 'price react-component'})[0].div.a.text.replace(',','.')\n",
    "        stores = container.findAll('span', {'class': 'shop-count'})[0].text\n",
    "        rating = container.findAll('a', {'class': 'rating stars'})[0].span.text.replace(',','.')\n",
    "        votes = container.findAll('a', {'class': 'rating stars'})[0].div.div.text\n",
    "        type_ = container.findAll('p', {'class': 'specs'})[0].b.text\n",
    "        connection = container.findAll('p', {'class': 'specs'})[0].findAll('b')[-1].text\n",
    "        if container.findAll('a', {'class': 'more-colors-available'}) == []: colors = '0'\n",
    "        else : colors = container.findAll('a', {'class': 'more-colors-available'})[0].text\n",
    "        \n",
    "        # Write the text into the file,\n",
    "        f.write(name + ',' + price + ',' + stores + ',' + rating + ',' + votes + ',' + type_ + ',' + connection + ',' + colors + '\\n')\n",
    "         \n",
    "    # To go to the next page of keyboards get the url of the next page from the component with the '>'. If there is not a next page terminate.\n",
    "    next_page_arrow = page_soup.findAll('ol', {'class': 'react-component paginator cf'})[-1].findAll('li')[-1]\n",
    "    if next_page_arrow.a == None : \n",
    "        f.close()\n",
    "        return 0\n",
    "    \n",
    "    # Recursively call the scrapping function.\n",
    "    next_url = next_page_arrow.a['href']\n",
    "    scrape_page(website_url, next_url, file)"
   ]
  },
  {
   "cell_type": "markdown",
   "metadata": {},
   "source": [
    "### Create a .csv file with a header of all the columns. Then call the scrapping function for the starting url."
   ]
  },
  {
   "cell_type": "code",
   "execution_count": 3,
   "metadata": {},
   "outputs": [],
   "source": [
    "filename = 'keyboards_raw.csv'\n",
    "headers = 'Name,Price,Stores,Rating,Votes,Type,Connection,Colors\\n'\n",
    "\n",
    "f = io.open(filename, \"w\", encoding=\"utf-8\")\n",
    "f.write(headers)\n",
    "\n",
    "scrape_page('https://www.skroutz.gr/', 'c/68/keyboards.html', f)"
   ]
  },
  {
   "cell_type": "markdown",
   "metadata": {},
   "source": [
    "### To make a dataset out of this i will clean the data a bit."
   ]
  },
  {
   "cell_type": "code",
   "execution_count": 4,
   "metadata": {},
   "outputs": [],
   "source": [
    "import pandas as pd\n",
    "import numpy as np"
   ]
  },
  {
   "cell_type": "code",
   "execution_count": 5,
   "metadata": {},
   "outputs": [
    {
     "data": {
      "text/html": [
       "<div>\n",
       "<style scoped>\n",
       "    .dataframe tbody tr th:only-of-type {\n",
       "        vertical-align: middle;\n",
       "    }\n",
       "\n",
       "    .dataframe tbody tr th {\n",
       "        vertical-align: top;\n",
       "    }\n",
       "\n",
       "    .dataframe thead th {\n",
       "        text-align: right;\n",
       "    }\n",
       "</style>\n",
       "<table border=\"1\" class=\"dataframe\">\n",
       "  <thead>\n",
       "    <tr style=\"text-align: right;\">\n",
       "      <th></th>\n",
       "      <th>Name</th>\n",
       "      <th>Price</th>\n",
       "      <th>Stores</th>\n",
       "      <th>Rating</th>\n",
       "      <th>Votes</th>\n",
       "      <th>Type</th>\n",
       "      <th>Connection</th>\n",
       "      <th>Colors</th>\n",
       "    </tr>\n",
       "  </thead>\n",
       "  <tbody>\n",
       "    <tr>\n",
       "      <th>0</th>\n",
       "      <td>Philips K264</td>\n",
       "      <td>7.50 €</td>\n",
       "      <td>σε 41 καταστήματα</td>\n",
       "      <td>4.7</td>\n",
       "      <td>6.0</td>\n",
       "      <td>Keyboard Only</td>\n",
       "      <td>USB</td>\n",
       "      <td>0</td>\n",
       "    </tr>\n",
       "    <tr>\n",
       "      <th>1</th>\n",
       "      <td>Philips SPT6324 Black</td>\n",
       "      <td>9.99 €</td>\n",
       "      <td>σε 20 καταστήματα</td>\n",
       "      <td>4.1</td>\n",
       "      <td>25.0</td>\n",
       "      <td>Keyboard &amp; Mouse Set</td>\n",
       "      <td>USB</td>\n",
       "      <td>0</td>\n",
       "    </tr>\n",
       "    <tr>\n",
       "      <th>2</th>\n",
       "      <td>Philips SPT6224 Black</td>\n",
       "      <td>8.93 €</td>\n",
       "      <td>σε 37 καταστήματα</td>\n",
       "      <td>4.7</td>\n",
       "      <td>3.0</td>\n",
       "      <td>Keyboard &amp; Mouse Set</td>\n",
       "      <td>USB</td>\n",
       "      <td>0</td>\n",
       "    </tr>\n",
       "    <tr>\n",
       "      <th>3</th>\n",
       "      <td>Logitech MX Keys</td>\n",
       "      <td>106.44 €</td>\n",
       "      <td>σε 8 καταστήματα</td>\n",
       "      <td>4.5</td>\n",
       "      <td>8.0</td>\n",
       "      <td>Keyboard Only</td>\n",
       "      <td>Bluetooth / USB</td>\n",
       "      <td>0</td>\n",
       "    </tr>\n",
       "    <tr>\n",
       "      <th>4</th>\n",
       "      <td>Powertech PT-677</td>\n",
       "      <td>3.99 €</td>\n",
       "      <td>σε 68 καταστήματα</td>\n",
       "      <td>2.7</td>\n",
       "      <td>7.0</td>\n",
       "      <td>Keyboard Only</td>\n",
       "      <td>USB</td>\n",
       "      <td>0</td>\n",
       "    </tr>\n",
       "  </tbody>\n",
       "</table>\n",
       "</div>"
      ],
      "text/plain": [
       "                    Name     Price             Stores  Rating  Votes  \\\n",
       "0           Philips K264    7.50 €  σε 41 καταστήματα     4.7    6.0   \n",
       "1  Philips SPT6324 Black    9.99 €  σε 20 καταστήματα     4.1   25.0   \n",
       "2  Philips SPT6224 Black    8.93 €  σε 37 καταστήματα     4.7    3.0   \n",
       "3       Logitech MX Keys  106.44 €   σε 8 καταστήματα     4.5    8.0   \n",
       "4       Powertech PT-677    3.99 €  σε 68 καταστήματα     2.7    7.0   \n",
       "\n",
       "                   Type       Connection  Colors  \n",
       "0         Keyboard Only              USB       0  \n",
       "1  Keyboard & Mouse Set              USB       0  \n",
       "2  Keyboard & Mouse Set              USB       0  \n",
       "3         Keyboard Only  Bluetooth / USB       0  \n",
       "4         Keyboard Only              USB       0  "
      ]
     },
     "execution_count": 5,
     "metadata": {},
     "output_type": "execute_result"
    }
   ],
   "source": [
    "keyboards = pd.read_csv('keyboards_raw.csv')\n",
    "keyboards.head()"
   ]
  },
  {
   "cell_type": "markdown",
   "metadata": {},
   "source": [
    "### Turn the strings to numbers, extract information from regular expressions and format some values."
   ]
  },
  {
   "cell_type": "code",
   "execution_count": 6,
   "metadata": {},
   "outputs": [],
   "source": [
    "pd.to_numeric(keyboards['Colors'])\n",
    "pd.to_numeric(keyboards['Rating'], downcast='float')\n",
    "\n",
    "keyboards['Votes'] = keyboards['Votes'].replace(np.nan, 0)\n",
    "keyboards['Votes'] = keyboards['Votes'].astype('int')\n",
    "\n",
    "keyboards['Price'] = keyboards['Price'].apply(lambda x: x.split('€')[0])\n",
    "pd.to_numeric(keyboards['Price'])\n",
    "\n",
    "import re\n",
    "keyboards['Stores'] = keyboards['Stores'].apply(lambda x: re.findall(r'\\d+', x))\n",
    "keyboards['Stores'] = keyboards['Stores'].apply(lambda x: x[0] if x != [] else 0)"
   ]
  },
  {
   "cell_type": "code",
   "execution_count": 7,
   "metadata": {},
   "outputs": [
    {
     "data": {
      "text/plain": [
       "array(['Keyboard Only', 'Keyboard & Mouse Set', 'Keyboard with Touchpad',\n",
       "       '0'], dtype=object)"
      ]
     },
     "execution_count": 7,
     "metadata": {},
     "output_type": "execute_result"
    }
   ],
   "source": [
    "keyboards['Type'].unique()"
   ]
  },
  {
   "cell_type": "code",
   "execution_count": 8,
   "metadata": {},
   "outputs": [],
   "source": [
    "keyboards['Type'].replace('Keyboard & Mouse Set', 'Keyboard and Mouse Set', inplace=True)\n",
    "keyboards['Type'].replace(0, 'No Info', inplace=True)"
   ]
  },
  {
   "cell_type": "markdown",
   "metadata": {},
   "source": [
    "### Save the clean data in a .csv file."
   ]
  },
  {
   "cell_type": "code",
   "execution_count": 9,
   "metadata": {},
   "outputs": [],
   "source": [
    "keyboards.to_csv('keyboards.csv')"
   ]
  },
  {
   "cell_type": "markdown",
   "metadata": {},
   "source": [
    "## Apparently gaming keyboards are on a different category. I wil do the same thing for gaming keyboards."
   ]
  },
  {
   "cell_type": "code",
   "execution_count": 10,
   "metadata": {},
   "outputs": [],
   "source": [
    "def scrape_page_gaming(website_url, starting_url, file):\n",
    "    client = urlopen(website_url + starting_url)\n",
    "    page_html = client.read()\n",
    "    client.close()\n",
    "    \n",
    "    page_soup = soup(page_html, 'html.parser')\n",
    "    \n",
    "    cf_cards = page_soup.findAll('li', {'class': 'cf card'})\n",
    "    cf_cards_slider = page_soup.findAll('li', {'class': 'cf card with-skus-slider'})\n",
    "    containers = cf_cards + cf_cards_slider\n",
    "\n",
    "    for container in containers:\n",
    "        name = container.div.h2.a.text\n",
    "        price = container.findAll('div', {'class': 'price react-component'})[0].div.a.text.replace(',', '.')\n",
    "        stores = container.findAll('div', {'class': 'price react-component'})[0].div.findAll('span')[-1].text\n",
    "        rating = container.findAll('a', {'class': 'rating stars'})[0].span.text.replace(',', '.')\n",
    "        votes = container.findAll('a', {'class': 'rating stars'})[0].div.div.text\n",
    "        if(container.findAll('p', {'class': 'specs'})[0].findAll('b') == []): switches = '-'\n",
    "        else: switches = container.findAll('p', {'class': 'specs'})[0].findAll('b')[-1].text\n",
    "        if container.findAll('a', {'class': 'more-colors-available'}) == []: colors = '0'\n",
    "        else : colors = container.findAll('a', {'class': 'more-colors-available'})[0].text\n",
    "                \n",
    "        f.write(name + ',' + price + ',' + stores + ',' + rating + ',' + votes + ',' + switches + ',' + colors + '\\n')\n",
    "         \n",
    "    next_page_arrow = page_soup.findAll('ol', {'class': 'react-component paginator cf'})[-1].findAll('li')[-1]\n",
    "    if next_page_arrow.a == None : \n",
    "        f.close()\n",
    "        return 0\n",
    "    \n",
    "    next_url = next_page_arrow.a['href']\n",
    "    scrape_page_gaming(website_url, next_url, file)"
   ]
  },
  {
   "cell_type": "code",
   "execution_count": 11,
   "metadata": {},
   "outputs": [],
   "source": [
    "filename = 'gaming_keyboards_raw.csv'\n",
    "headers = 'Name,Price,Stores,Rating,Votes,Switches,Colors\\n'\n",
    "\n",
    "f = io.open(filename, \"w\", encoding=\"utf-8\")\n",
    "f.write(headers)\n",
    "\n",
    "scrape_page_gaming('https://www.skroutz.gr/', 'c/1866/Gaming_pliktrologia.html', f)"
   ]
  },
  {
   "cell_type": "code",
   "execution_count": 12,
   "metadata": {},
   "outputs": [
    {
     "data": {
      "text/html": [
       "<div>\n",
       "<style scoped>\n",
       "    .dataframe tbody tr th:only-of-type {\n",
       "        vertical-align: middle;\n",
       "    }\n",
       "\n",
       "    .dataframe tbody tr th {\n",
       "        vertical-align: top;\n",
       "    }\n",
       "\n",
       "    .dataframe thead th {\n",
       "        text-align: right;\n",
       "    }\n",
       "</style>\n",
       "<table border=\"1\" class=\"dataframe\">\n",
       "  <thead>\n",
       "    <tr style=\"text-align: right;\">\n",
       "      <th></th>\n",
       "      <th>Name</th>\n",
       "      <th>Price</th>\n",
       "      <th>Stores</th>\n",
       "      <th>Rating</th>\n",
       "      <th>Votes</th>\n",
       "      <th>Switches</th>\n",
       "      <th>Colors</th>\n",
       "    </tr>\n",
       "  </thead>\n",
       "  <tbody>\n",
       "    <tr>\n",
       "      <th>0</th>\n",
       "      <td>Zeroground KB-2800G Satomi</td>\n",
       "      <td>53.99 €</td>\n",
       "      <td>σε 59 καταστήματα</td>\n",
       "      <td>4.6</td>\n",
       "      <td>27.0</td>\n",
       "      <td>Outemu Red</td>\n",
       "      <td>0</td>\n",
       "    </tr>\n",
       "    <tr>\n",
       "      <th>1</th>\n",
       "      <td>Razer Cynosa Lite Chroma</td>\n",
       "      <td>38.88 €</td>\n",
       "      <td>σε 40 καταστήματα</td>\n",
       "      <td>4.2</td>\n",
       "      <td>44.0</td>\n",
       "      <td>Μεμβράνης</td>\n",
       "      <td>0</td>\n",
       "    </tr>\n",
       "    <tr>\n",
       "      <th>2</th>\n",
       "      <td>Zeroground KB-2700G Sakimo</td>\n",
       "      <td>43.99 €</td>\n",
       "      <td>σε 64 καταστήματα</td>\n",
       "      <td>4.6</td>\n",
       "      <td>8.0</td>\n",
       "      <td>Outemu Blue</td>\n",
       "      <td>0</td>\n",
       "    </tr>\n",
       "    <tr>\n",
       "      <th>3</th>\n",
       "      <td>Zeroground KB-2400G Taigen v2.0</td>\n",
       "      <td>43.80 €</td>\n",
       "      <td>σε 69 καταστήματα</td>\n",
       "      <td>4.4</td>\n",
       "      <td>38.0</td>\n",
       "      <td>Custom Mechanical</td>\n",
       "      <td>0</td>\n",
       "    </tr>\n",
       "    <tr>\n",
       "      <th>4</th>\n",
       "      <td>Razer Blackwidow Chroma Elite (Razer Green)</td>\n",
       "      <td>134.47 €</td>\n",
       "      <td>σε 35 καταστήματα</td>\n",
       "      <td>4.7</td>\n",
       "      <td>69.0</td>\n",
       "      <td>Razer Green</td>\n",
       "      <td>0</td>\n",
       "    </tr>\n",
       "  </tbody>\n",
       "</table>\n",
       "</div>"
      ],
      "text/plain": [
       "                                          Name     Price             Stores  \\\n",
       "0                   Zeroground KB-2800G Satomi   53.99 €  σε 59 καταστήματα   \n",
       "1                     Razer Cynosa Lite Chroma   38.88 €  σε 40 καταστήματα   \n",
       "2                   Zeroground KB-2700G Sakimo   43.99 €  σε 64 καταστήματα   \n",
       "3              Zeroground KB-2400G Taigen v2.0   43.80 €  σε 69 καταστήματα   \n",
       "4  Razer Blackwidow Chroma Elite (Razer Green)  134.47 €  σε 35 καταστήματα   \n",
       "\n",
       "   Rating  Votes           Switches  Colors  \n",
       "0     4.6   27.0         Outemu Red       0  \n",
       "1     4.2   44.0          Μεμβράνης       0  \n",
       "2     4.6    8.0        Outemu Blue       0  \n",
       "3     4.4   38.0  Custom Mechanical       0  \n",
       "4     4.7   69.0        Razer Green       0  "
      ]
     },
     "execution_count": 12,
     "metadata": {},
     "output_type": "execute_result"
    }
   ],
   "source": [
    "gaming = pd.read_csv('gaming_keyboards_raw.csv')\n",
    "gaming.head()"
   ]
  },
  {
   "cell_type": "code",
   "execution_count": 13,
   "metadata": {},
   "outputs": [],
   "source": [
    "pd.to_numeric(gaming['Colors'])\n",
    "pd.to_numeric(gaming['Rating'], downcast='float')\n",
    "\n",
    "gaming['Votes'] = gaming['Votes'].replace(np.nan, 0)\n",
    "gaming['Votes'] = gaming['Votes'].astype('int')\n",
    "\n",
    "gaming['Price'] = gaming['Price'].apply(lambda x: x.split('€')[0])\n",
    "pd.to_numeric(gaming['Price'])\n",
    "\n",
    "gaming['Stores'] = gaming['Stores'].apply(lambda x: re.findall(r'\\d+', x))\n",
    "gaming['Stores'] = gaming['Stores'].apply(lambda x: x[0] if x != [] else 0)"
   ]
  },
  {
   "cell_type": "code",
   "execution_count": 14,
   "metadata": {},
   "outputs": [
    {
     "data": {
      "text/plain": [
       "array(['Outemu Red', 'Μεμβράνης', 'Outemu Blue', 'Custom Mechanical',\n",
       "       'Razer Green', 'Custom Blue', 'Razer Linear', 'Cherry MX Red',\n",
       "       'Φωτιζόμενα Πλήκτρα', 'Razer Yellow', 'HyperX Red', 'Custom Brown',\n",
       "       'Outemu Black', 'Razer Clicky', 'GX Blue', 'Kailh Red',\n",
       "       'Kailh Speed Silver', 'Xinda Blue', 'Cherry MX Brown',\n",
       "       'Romer-G Tactile', 'Razer Orange', 'Gateron Brown',\n",
       "       'SteelSeries OmniPoint', 'Outemu Brown', 'Kailh Blue',\n",
       "       'Kailh Brown', 'SteelSeries Hybrid Mechanical', 'GTX Red',\n",
       "       'LK Libra Brown', 'Gateron Red', 'Cherry MX Red Low Profile',\n",
       "       'Cherry MX Speed', 'Kailh Box White', 'Razer Analog Optical',\n",
       "       'Titan Tactile', 'Cherry MX Blue', 'HyperX Aqua', 'Custom Silver',\n",
       "       'LK Blue', '-', 'Σετ Πληκτρολόγιο & Ποντίκι', 'GL Clicky',\n",
       "       'LK Libra Orange', 'Press', 'GL Linear', 'Kailh Short',\n",
       "       'Full Size', 'Gamdias', 'Gateron Blue', 'Custom Red',\n",
       "       'Cherry MX White', 'SteelSeries Red', 'GL Tactile',\n",
       "       'Cherry MX Silent Red', 'Outemu Green', 'SteelSeries QX2',\n",
       "       'Custom Gold', 'Cherry MX Silver', 'GTX White', 'Romer-G Linear',\n",
       "       'Jixian Blue', 'Zeus Optical', 'Kailh Box Red', 'GX Brown',\n",
       "       'GX Red', 'SteelSeries Blue', 'TUF Linear', 'TTC Brown',\n",
       "       'Gamma Zulu', 'KRGD', 'Cyan AX', 'Keypad'], dtype=object)"
      ]
     },
     "execution_count": 14,
     "metadata": {},
     "output_type": "execute_result"
    }
   ],
   "source": [
    "gaming['Switches'].unique()"
   ]
  },
  {
   "cell_type": "code",
   "execution_count": 15,
   "metadata": {},
   "outputs": [],
   "source": [
    "gaming['Switches'].replace('Μεμβράνης', 'Membrane', inplace=True)\n",
    "gaming['Switches'].replace('Φωτιζόμενα Πλήκτρα', 'Key Lights', inplace=True)\n",
    "gaming['Switches'].replace('Σετ Πληκτρολόγιο & Ποντίκι', 'Keyboard and Mouse Set', inplace=True)\n",
    "gaming['Switches'].replace('-', 'No Info', inplace=True)"
   ]
  },
  {
   "cell_type": "code",
   "execution_count": 16,
   "metadata": {},
   "outputs": [],
   "source": [
    "gaming.to_csv('gaming_keyboards.csv')"
   ]
  },
  {
   "cell_type": "markdown",
   "metadata": {},
   "source": [
    "### Now i'm going to merge the two dataframes."
   ]
  },
  {
   "cell_type": "code",
   "execution_count": 17,
   "metadata": {},
   "outputs": [],
   "source": [
    "all_keyboards = pd.concat([keyboards, gaming], ignore_index=True)"
   ]
  },
  {
   "cell_type": "code",
   "execution_count": 18,
   "metadata": {},
   "outputs": [
    {
     "data": {
      "text/html": [
       "<div>\n",
       "<style scoped>\n",
       "    .dataframe tbody tr th:only-of-type {\n",
       "        vertical-align: middle;\n",
       "    }\n",
       "\n",
       "    .dataframe tbody tr th {\n",
       "        vertical-align: top;\n",
       "    }\n",
       "\n",
       "    .dataframe thead th {\n",
       "        text-align: right;\n",
       "    }\n",
       "</style>\n",
       "<table border=\"1\" class=\"dataframe\">\n",
       "  <thead>\n",
       "    <tr style=\"text-align: right;\">\n",
       "      <th></th>\n",
       "      <th>Name</th>\n",
       "      <th>Price</th>\n",
       "      <th>Stores</th>\n",
       "      <th>Rating</th>\n",
       "      <th>Votes</th>\n",
       "      <th>Type</th>\n",
       "      <th>Connection</th>\n",
       "      <th>Colors</th>\n",
       "      <th>Switches</th>\n",
       "    </tr>\n",
       "  </thead>\n",
       "  <tbody>\n",
       "    <tr>\n",
       "      <th>0</th>\n",
       "      <td>Philips K264</td>\n",
       "      <td>7.50</td>\n",
       "      <td>41</td>\n",
       "      <td>4.7</td>\n",
       "      <td>6</td>\n",
       "      <td>Keyboard Only</td>\n",
       "      <td>USB</td>\n",
       "      <td>0</td>\n",
       "      <td>NaN</td>\n",
       "    </tr>\n",
       "    <tr>\n",
       "      <th>1</th>\n",
       "      <td>Philips SPT6324 Black</td>\n",
       "      <td>9.99</td>\n",
       "      <td>20</td>\n",
       "      <td>4.1</td>\n",
       "      <td>25</td>\n",
       "      <td>Keyboard and Mouse Set</td>\n",
       "      <td>USB</td>\n",
       "      <td>0</td>\n",
       "      <td>NaN</td>\n",
       "    </tr>\n",
       "    <tr>\n",
       "      <th>2</th>\n",
       "      <td>Philips SPT6224 Black</td>\n",
       "      <td>8.93</td>\n",
       "      <td>37</td>\n",
       "      <td>4.7</td>\n",
       "      <td>3</td>\n",
       "      <td>Keyboard and Mouse Set</td>\n",
       "      <td>USB</td>\n",
       "      <td>0</td>\n",
       "      <td>NaN</td>\n",
       "    </tr>\n",
       "    <tr>\n",
       "      <th>3</th>\n",
       "      <td>Logitech MX Keys</td>\n",
       "      <td>106.44</td>\n",
       "      <td>8</td>\n",
       "      <td>4.5</td>\n",
       "      <td>8</td>\n",
       "      <td>Keyboard Only</td>\n",
       "      <td>Bluetooth / USB</td>\n",
       "      <td>0</td>\n",
       "      <td>NaN</td>\n",
       "    </tr>\n",
       "    <tr>\n",
       "      <th>4</th>\n",
       "      <td>Powertech PT-677</td>\n",
       "      <td>3.99</td>\n",
       "      <td>68</td>\n",
       "      <td>2.7</td>\n",
       "      <td>7</td>\n",
       "      <td>Keyboard Only</td>\n",
       "      <td>USB</td>\n",
       "      <td>0</td>\n",
       "      <td>NaN</td>\n",
       "    </tr>\n",
       "  </tbody>\n",
       "</table>\n",
       "</div>"
      ],
      "text/plain": [
       "                    Name    Price Stores  Rating  Votes  \\\n",
       "0           Philips K264    7.50      41     4.7      6   \n",
       "1  Philips SPT6324 Black    9.99      20     4.1     25   \n",
       "2  Philips SPT6224 Black    8.93      37     4.7      3   \n",
       "3       Logitech MX Keys  106.44       8     4.5      8   \n",
       "4       Powertech PT-677    3.99      68     2.7      7   \n",
       "\n",
       "                     Type       Connection  Colors Switches  \n",
       "0           Keyboard Only              USB       0      NaN  \n",
       "1  Keyboard and Mouse Set              USB       0      NaN  \n",
       "2  Keyboard and Mouse Set              USB       0      NaN  \n",
       "3           Keyboard Only  Bluetooth / USB       0      NaN  \n",
       "4           Keyboard Only              USB       0      NaN  "
      ]
     },
     "execution_count": 18,
     "metadata": {},
     "output_type": "execute_result"
    }
   ],
   "source": [
    "all_keyboards.head()"
   ]
  },
  {
   "cell_type": "markdown",
   "metadata": {},
   "source": [
    "### Save the dataframe into a .csv file."
   ]
  },
  {
   "cell_type": "code",
   "execution_count": 19,
   "metadata": {},
   "outputs": [],
   "source": [
    "all_keyboards.to_csv('all_keyboards.csv')"
   ]
  }
 ],
 "metadata": {
  "kernelspec": {
   "display_name": "Python 3",
   "language": "python",
   "name": "python3"
  },
  "language_info": {
   "codemirror_mode": {
    "name": "ipython",
    "version": 3
   },
   "file_extension": ".py",
   "mimetype": "text/x-python",
   "name": "python",
   "nbconvert_exporter": "python",
   "pygments_lexer": "ipython3",
   "version": "3.7.6"
  }
 },
 "nbformat": 4,
 "nbformat_minor": 4
}
